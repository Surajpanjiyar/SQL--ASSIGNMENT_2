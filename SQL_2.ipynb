{
  "nbformat": 4,
  "nbformat_minor": 0,
  "metadata": {
    "colab": {
      "provenance": [],
      "authorship_tag": "ABX9TyMAQ3GqzDCYZGK1z2a9cgcv",
      "include_colab_link": true
    },
    "kernelspec": {
      "name": "python3",
      "display_name": "Python 3"
    },
    "language_info": {
      "name": "python"
    }
  },
  "cells": [
    {
      "cell_type": "markdown",
      "metadata": {
        "id": "view-in-github",
        "colab_type": "text"
      },
      "source": [
        "<a href=\"https://colab.research.google.com/github/Surajpanjiyar/SQL--ASSIGNMENT_2/blob/main/SQL_2.ipynb\" target=\"_parent\"><img src=\"https://colab.research.google.com/assets/colab-badge.svg\" alt=\"Open In Colab\"/></a>"
      ]
    },
    {
      "cell_type": "code",
      "execution_count": null,
      "metadata": {
        "id": "l5afusxPhVFb"
      },
      "outputs": [],
      "source": [
        "CREATE DATABASE SURYA ;\n",
        "\n",
        "SHOW databases  ;\n",
        "\n",
        "USE  surya ;\n",
        "\n",
        "CREATE TABLE sales_data (\n",
        "    order_id INT PRIMARY KEY,\n",
        "    sales DECIMAL(10, 2),\n",
        "    profit DECIMAL(10, 2),\n",
        "    ship_mode VARCHAR(20)\n",
        ");\n",
        "\n",
        "\n",
        "INSERT INTO sales_data (order_id, sales, profit, ship_mode)\n",
        "VALUES\n",
        "    (1, 100.00, 50.00, 'Same Day'),\n",
        "    (2, 200.00, 80.00, 'First Class'),\n",
        "    (3, 150.00, 60.00, 'Standard Class'),\n",
        "    (4, 300.00, 100.00, 'Express'),\n",
        "    (5, 120.00, 40.00, 'Standard Class');\n",
        "\n",
        "SELECT * FROM sales_data;\n",
        "\n",
        "SELECT\n",
        "    order_id,\n",
        "    sales,\n",
        "    profit,\n",
        "    ship_mode,\n",
        "    CASE\n",
        "        WHEN ship_mode = 'Same Day' THEN (sales - profit) * 1.2\n",
        "        WHEN ship_mode = 'First Class' THEN (sales - profit) * 1.1\n",
        "        WHEN ship_mode = 'Standard Class' THEN (sales - profit) * 1.05\n",
        "        ELSE (sales - profit)\n",
        "    END AS total_cost\n",
        "FROM\n",
        "    sales_data;\n"
      ]
    }
  ]
}